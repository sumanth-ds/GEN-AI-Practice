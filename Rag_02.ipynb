{
 "cells": [
  {
   "cell_type": "code",
   "execution_count": 6,
   "id": "685ff50f-38dc-425e-9568-e5682bd82e9b",
   "metadata": {},
   "outputs": [],
   "source": [
    "# !pip install langchain-groq"
   ]
  },
  {
   "cell_type": "code",
   "execution_count": 2,
   "id": "f91e721d-7180-4ba4-8c64-bf61a2323cac",
   "metadata": {},
   "outputs": [],
   "source": [
    "from langchain_groq import ChatGroq \n",
    "from langchain_core.output_parsers import StrOutputParser"
   ]
  },
  {
   "cell_type": "code",
   "execution_count": 3,
   "id": "d6607c8e-681a-486e-86a6-05265ed5966f",
   "metadata": {},
   "outputs": [],
   "source": [
    "api = open('groq.txt')\n",
    "api_key = api.read()\n",
    "\n",
    "\n",
    "model = ChatGroq(api_key= api_key , streaming=True, model = 'llama-3.2-90b-vision-preview')"
   ]
  },
  {
   "cell_type": "code",
   "execution_count": 3,
   "id": "fefa21f9-a253-4722-80d4-80b028d5aace",
   "metadata": {},
   "outputs": [],
   "source": [
    "from langchain_core.prompts import ChatPromptTemplate, HumanMessagePromptTemplate, SystemMessagePromptTemplate\n",
    "\n",
    "      \n",
    "    "
   ]
  },
  {
   "cell_type": "code",
   "execution_count": 4,
   "id": "aa32634e-9752-42ec-9b94-ce0949fc612c",
   "metadata": {},
   "outputs": [
    {
     "name": "stdin",
     "output_type": "stream",
     "text": [
      " ai\n"
     ]
    },
    {
     "data": {
      "text/plain": [
       "AIMessage(content='Artificial intelligence (AI) refers to the development of computer systems that can perform tasks that typically require human intelligence, such as:\\n\\n1. Learning: AI systems can learn from data and improve their performance over time.\\n2. Problem-solving: AI systems can analyze problems and generate solutions.\\n3. Reasoning: AI systems can draw conclusions based on data and rules.\\n4. Perception: AI systems can interpret and understand data from sensors, such as images and speech.\\n\\nAI has many applications, including:\\n\\n1. Virtual assistants: AI-powered virtual assistants, such as Siri and Alexa, can perform tasks and answer questions.\\n2. Image recognition: AI-powered image recognition systems can identify objects and people in images.\\n3. Natural language processing: AI-powered NLP systems can understand and generate human language.\\n4. Robotics: AI-powered robots can perform tasks that require physical interaction, such as assembly and navigation.\\n5. Predictive analytics: AI-powered predictive analytics systems can analyze data and make predictions about future events.\\n\\nThere are several types of AI, including:\\n\\n1. Narrow or weak AI: This type of AI is designed to perform a specific task, such as facial recognition or language translation.\\n2. General or strong AI: This type of AI is designed to perform any intellectual task that a human can.\\n3. Superintelligence: This type of AI is significantly more intelligent than the best human minds.\\n\\nAI has the potential to bring many benefits, including:\\n\\n1. Increased efficiency: AI can automate tasks and free up time for more creative and strategic work.\\n2. Improved accuracy: AI can perform tasks with a high degree of accuracy, reducing errors and improving quality.\\n3. Enhanced decision-making: AI can analyze large amounts of data and provide insights that inform decision-making.\\n4. Improved customer experience: AI-powered chatbots and virtual assistants can provide 24/7 customer support.\\n\\nHowever, AI also raises concerns, including:\\n\\n1. Job displacement: AI could automate jobs, leading to unemployment and social disruption.\\n2. Bias and fairness: AI systems can perpetuate biases and discriminate against certain groups.\\n3. Safety and security: AI systems can be vulnerable to cyber attacks and other security threats.\\n4. Ethics and accountability: AI systems can raise questions about accountability and responsibility.\\n\\nOverall, AI has the potential to bring many benefits, but it also requires careful consideration of its potential risks and implications.', additional_kwargs={}, response_metadata={'finish_reason': 'stop'}, id='run-9ba4daf4-ccb3-40e0-b912-1548712ddc5e-0', usage_metadata={'input_tokens': 40, 'output_tokens': 479, 'total_tokens': 519})"
      ]
     },
     "execution_count": 4,
     "metadata": {},
     "output_type": "execute_result"
    }
   ],
   "source": [
    "system = SystemMessagePromptTemplate.from_template(\"you are ai assistance\")\n",
    "human = HumanMessagePromptTemplate.from_template(\"{input}\")\n",
    "\n",
    "\n",
    "\n",
    "\n",
    "chat_template = ChatPromptTemplate.from_messages([system, human])\n",
    "chain = chat_template | model\n",
    "\n",
    "input1 = input()\n",
    "\n",
    "prompt = {'input': input1}\n",
    "chain.invoke(prompt)"
   ]
  },
  {
   "cell_type": "code",
   "execution_count": 24,
   "id": "dd7a4356-2868-4368-8b63-208b25b6ae4f",
   "metadata": {},
   "outputs": [],
   "source": [
    "from langchain.document_loaders import CSVLoader\n",
    "from langchain.document_loaders import DirectoryLoader"
   ]
  },
  {
   "cell_type": "code",
   "execution_count": 25,
   "id": "aa00aebb-f1cf-419d-996a-6ec067a79e61",
   "metadata": {},
   "outputs": [
    {
     "name": "stderr",
     "output_type": "stream",
     "text": [
      "100%|███████████████████████████████████████████████████████████████████████████████████| 1/1 [00:00<00:00, 497.49it/s]"
     ]
    },
    {
     "name": "stdout",
     "output_type": "stream",
     "text": [
      "50\n"
     ]
    },
    {
     "name": "stderr",
     "output_type": "stream",
     "text": [
      "\n"
     ]
    }
   ],
   "source": [
    "loader = DirectoryLoader(path= './.' , glob='*.csv' , show_progress=True , loader_cls = CSVLoader )\n",
    "load = loader.load()\n",
    "print(len(load))"
   ]
  },
  {
   "cell_type": "code",
   "execution_count": 238,
   "id": "e29d1783-8386-4f34-8b06-569f36beabf7",
   "metadata": {},
   "outputs": [],
   "source": [
    "from langchain_text_splitters import  RecursiveCharacterTextSplitter\n",
    "\n",
    "text_splitter = RecursiveCharacterTextSplitter(\n",
    "    chunk_size= 1000,\n",
    "    chunk_overlap=500\n",
    ")"
   ]
  },
  {
   "cell_type": "code",
   "execution_count": 240,
   "id": "70c16f18-559d-4bdd-abb3-f669a7a3707d",
   "metadata": {},
   "outputs": [
    {
     "data": {
      "text/plain": [
       "50"
      ]
     },
     "execution_count": 240,
     "metadata": {},
     "output_type": "execute_result"
    }
   ],
   "source": [
    "chunks = text_splitter.split_documents(load)\n",
    "len(chunks)"
   ]
  },
  {
   "cell_type": "code",
   "execution_count": 242,
   "id": "7e8bfa1c-1718-4e45-851a-ba850777b5e2",
   "metadata": {},
   "outputs": [
    {
     "name": "stdout",
     "output_type": "stream",
     "text": [
      "page_content='R&D Spend: 165349.2\n",
      "Administration: 136897.8\n",
      "Marketing Spend: 471784.1\n",
      "State: New York\n",
      "Profit: 192261.83' metadata={'source': '50_Startups.csv', 'row': 0}\n"
     ]
    }
   ],
   "source": [
    "print(chunks[0])"
   ]
  },
  {
   "cell_type": "code",
   "execution_count": 244,
   "id": "6b921336-d965-4a3b-85ed-b86f94b29e60",
   "metadata": {},
   "outputs": [],
   "source": [
    "from langchain_community.vectorstores import FAISS\n",
    "from langchain_google_genai import GoogleGenerativeAIEmbeddings\n",
    "\n",
    "embedding  = GoogleGenerativeAIEmbeddings(model = 'models/embedding-001', google_api_key=api_key_gemini )\n",
    "vector_store = FAISS.from_documents(chunks , embedding)\n",
    "\n"
   ]
  },
  {
   "cell_type": "code",
   "execution_count": 245,
   "id": "1aefc865-b9b9-426a-b260-fe9ba2ebbc23",
   "metadata": {},
   "outputs": [
    {
     "name": "stdout",
     "output_type": "stream",
     "text": [
      "* R&D Spend: 44069.95\n",
      "Administration: 51283.14\n",
      "Marketing Spend: 197029.42\n",
      "State: California\n",
      "Profit: 89949.14 [{'source': '50_Startups.csv', 'row': 37}]\n",
      "* R&D Spend: 15505.73\n",
      "Administration: 127382.3\n",
      "Marketing Spend: 35534.17\n",
      "State: New York\n",
      "Profit: 69758.98 [{'source': '50_Startups.csv', 'row': 43}]\n"
     ]
    }
   ],
   "source": [
    "results = vector_store.similarity_search(\n",
    "    \"how many startups\",\n",
    "    k=2,\n",
    "    filter={\"source\": \"50_Startups.csv\"},\n",
    ")\n",
    "for res in results:\n",
    "    print(f\"* {res.page_content} [{res.metadata}]\")"
   ]
  },
  {
   "cell_type": "code",
   "execution_count": 246,
   "id": "9a9c0f0d-06ca-4d24-bbf4-8ada02d68f48",
   "metadata": {},
   "outputs": [],
   "source": [
    "def retriver(query):\n",
    "    retrival = vector_store.as_retriever()\n",
    "    context = retrival.invoke(query)\n",
    "    return \"\\n\\n\".join([doc.page_content for doc in context])"
   ]
  },
  {
   "cell_type": "code",
   "execution_count": 260,
   "id": "5a9c7777-5a5b-45f7-a4fb-47fe6b06f49c",
   "metadata": {},
   "outputs": [],
   "source": [
    "prompt = \"\"\"Your are helpfull ai assistant. Your name is qa Bot.  Answer the question based on the context : {context}. Answer the question {question}. \"\"\"\n",
    "\n",
    "chat_template = ChatPromptTemplate.from_template(prompt)\n"
   ]
  },
  {
   "cell_type": "code",
   "execution_count": 262,
   "id": "7c4ea2ef-e210-4037-823d-6dd02bb90df5",
   "metadata": {},
   "outputs": [],
   "source": [
    "from langchain_core.runnables import RunnablePassthrough\n",
    "\n",
    "custom_chain = {\"context\" : retriver, \"question\": RunnablePassthrough()}  | chat_template | model"
   ]
  },
  {
   "cell_type": "code",
   "execution_count": 264,
   "id": "0b2e69f8-4691-41ef-9a9b-5fa14a72b6d0",
   "metadata": {},
   "outputs": [
    {
     "name": "stdout",
     "output_type": "stream",
     "text": [
      "There are 4 startup company records.\n"
     ]
    }
   ],
   "source": [
    "print(custom_chain.invoke(\"how many startup company records\").content)"
   ]
  },
  {
   "cell_type": "code",
   "execution_count": 265,
   "id": "9dbeea62-e05e-4642-8fbd-1817476f4279",
   "metadata": {},
   "outputs": [
    {
     "name": "stdout",
     "output_type": "stream",
     "text": [
      "Based on the given data, to find the state with the maximum profit, I'll analyze the profit values for each state.\n",
      "\n",
      "For Florida: \n",
      "1. 132602.65\n",
      "2. 155752.6\n",
      "3. 141585.52\n",
      "\n",
      "For New York: \n",
      "1. 108552.04\n",
      "\n",
      "The maximum profit for Florida is 155752.6 and for New York is 108552.04. Comparing these two, the maximum profit is from Florida with a value of 155752.6.\n",
      "\n",
      "So, the state with the maximum profit is Florida.\n"
     ]
    }
   ],
   "source": [
    "print(custom_chain.invoke(\"which state has max profit\").content)\n"
   ]
  },
  {
   "cell_type": "code",
   "execution_count": 266,
   "id": "54569f45-1af4-437b-a0af-853503a6969f",
   "metadata": {},
   "outputs": [
    {
     "name": "stdout",
     "output_type": "stream",
     "text": [
      "Based on the data provided, there are two states mentioned: New York and Florida. \n",
      "\n",
      "The maximum profit is 155752.6, which is associated with the state of Florida.\n",
      "\n",
      "Since Florida has multiple entries with varying profits, let's compare the profits for each state:\n",
      "\n",
      "New York: 108552.04\n",
      "Florida: \n",
      "- 141585.52\n",
      "- 132602.65\n",
      "- 155752.6\n",
      "\n",
      "All the maximum profits are associated with the state of Florida. Therefore, the answer to the question is that there is only 1 state with the maximum profit, which is Florida.\n"
     ]
    }
   ],
   "source": [
    "print(custom_chain.invoke(\"how many state has max profit\").content)\n"
   ]
  },
  {
   "cell_type": "code",
   "execution_count": 267,
   "id": "6e08b973-5dc2-4d26-b30c-d5633a2149c8",
   "metadata": {},
   "outputs": [
    {
     "name": "stdout",
     "output_type": "stream",
     "text": [
      "Based on the given data, I can see that there are two states mentioned: \n",
      "\n",
      "1. New York (3 times)\n",
      "2. California (1 time)\n",
      "\n",
      "So, the answer is 2. There are 2 unique states.\n"
     ]
    }
   ],
   "source": [
    "print(custom_chain.invoke(\"how many state\").content)\n"
   ]
  },
  {
   "cell_type": "code",
   "execution_count": 268,
   "id": "2acad7fe-08e7-4740-a7dc-81fb59af597a",
   "metadata": {},
   "outputs": [
    {
     "name": "stdout",
     "output_type": "stream",
     "text": [
      "Based on the given data, I can analyze the profit for each state. \n",
      "\n",
      "- New York: 108552.04\n",
      "- Florida: \n",
      "  - 132602.65\n",
      "  - 141585.52\n",
      "  - 155752.6\n",
      "\n",
      "The minimum profit is associated with the state 'New York' with a profit of 108552.04.\n"
     ]
    }
   ],
   "source": [
    "print(custom_chain.invoke(\"give me the minimum profit state\").content)\n"
   ]
  },
  {
   "cell_type": "code",
   "execution_count": 274,
   "id": "60a783c1-eab9-413f-b189-2bfa84c2d284",
   "metadata": {},
   "outputs": [
    {
     "name": "stdout",
     "output_type": "stream",
     "text": [
      "There are 3 unique states in the given data. \n",
      "\n",
      "The names of the states are: \n",
      "\n",
      "1. New York \n",
      "2. Florida \n",
      "3. California\n"
     ]
    }
   ],
   "source": [
    "print(custom_chain.invoke(\"how many states and there names\").content)\n"
   ]
  },
  {
   "cell_type": "code",
   "execution_count": 276,
   "id": "a3375a49-45c4-48a0-bfc1-256e56ac8e4e",
   "metadata": {},
   "outputs": [
    {
     "name": "stdout",
     "output_type": "stream",
     "text": [
      "To determine the state with the highest sales, we need to calculate the total sales for each state. Since the total sales are not provided directly, we can calculate it by subtracting the costs (R&D Spend, Administration, and Marketing Spend) from the profit for each state. However, we can also simply add the costs and compare them with the given profits to infer the total sales.\n",
      "\n",
      "Let's calculate the costs for each state:\n",
      "\n",
      "1. Florida (first entry):\n",
      "   R&D Spend: 153441.51\n",
      "   Administration: 101145.55\n",
      "   Marketing Spend: 407934.54\n",
      "   Total Costs: 662521.60\n",
      "   Profit: 191050.39\n",
      "   Total Sales: 853571.99\n",
      "\n",
      "2. New York:\n",
      "   R&D Spend: 94657.16\n",
      "   Administration: 145077.58\n",
      "   Marketing Spend: 282574.31\n",
      "   Total Costs: 522308.05\n",
      "   Profit: 125370.37\n",
      "   Total Sales: 647678.42\n",
      "\n",
      "3. California:\n",
      "   R&D Spend: 44069.95\n",
      "   Administration: 51283.14\n",
      "   Marketing Spend: 197029.42\n",
      "   Total Costs: 294382.51\n",
      "   Profit: 89949.14\n",
      "   Total Sales: 384331.65\n",
      "\n",
      "4. Florida (second entry):\n",
      "   R&D Spend: 61994.48\n",
      "   Administration: 115641.28\n",
      "   Marketing Spend: 91131.24\n",
      "   Total Costs: 258766.99\n",
      "   Profit: 99937.59\n",
      "   Total Sales: 358704.58\n",
      "\n",
      "Comparing the total sales for each state:\n",
      "- Florida (first entry): 853571.99\n",
      "- New York: 647678.42\n",
      "- California: 384331.65\n",
      "- Florida (second entry): 358704.58\n",
      "\n",
      "Based on the data, Florida (first entry) has the highest sales with a total sales value of 853571.99.\n"
     ]
    }
   ],
   "source": [
    "print(custom_chain.invoke(\"which states has highest sales\").content)\n"
   ]
  },
  {
   "cell_type": "code",
   "execution_count": 282,
   "id": "66dbda69-ab36-4965-8453-77a4b8743233",
   "metadata": {},
   "outputs": [
    {
     "name": "stdout",
     "output_type": "stream",
     "text": [
      "To determine which state has the highest sales, we need to calculate the total sales for each state. Since we don't have the total revenue or sales data directly, we can calculate it by adding the expenses (R&D Spend, Administration, and Marketing Spend) and then adding the profit.\n",
      "\n",
      "Let's calculate the total sales for each state:\n",
      "\n",
      "**New York:**\n",
      "\n",
      "1. R&D Spend: 94657.16 + 77044.01 = 171701.17\n",
      "Administration: 145077.58 + 99281.34 = 244358.92\n",
      "Marketing Spend: 282574.31 + 140574.81 = 423149.12\n",
      "Total Expenses: 171701.17 + 244358.92 + 423149.12 = 839209.21\n",
      "Profit: 125370.37 + 108552.04 = 233922.41\n",
      "Total Sales: 839209.21 + 233922.41 = 1073131.62\n",
      "\n",
      "**Florida:**\n",
      "\n",
      "1. R&D Spend: 153441.51 + 61994.48 = 215435.99\n",
      "Administration: 101145.55 + 115641.28 = 216786.83\n",
      "Marketing Spend: 407934.54 + 91131.24 = 499065.78\n",
      "Total Expenses: 215435.99 + 216786.83 + 499065.78 = 931288.6\n",
      "Profit: 191050.39 + 99937.59 = 291988\n",
      "Total Sales: 931288.6 + 291988 = 1223276.6\n",
      "\n",
      "Comparing the total sales for both states, we can see that **New York** has the highest sales, with a total sales of **1073131.62**.\n"
     ]
    }
   ],
   "source": [
    "print(custom_chain.invoke(\"which states has highest sales what is the sales recorded at that particular state\").content)\n"
   ]
  },
  {
   "cell_type": "code",
   "execution_count": 283,
   "id": "3606740c-f6cd-480e-8d9f-9c23e3463952",
   "metadata": {},
   "outputs": [
    {
     "name": "stdout",
     "output_type": "stream",
     "text": [
      "Based on the given data, we can calculate the total sales for each record by adding the R&D Spend, Administration, Marketing Spend, and Profit. \n",
      "\n",
      "Record 1: \n",
      "Total Spend = R&D Spend + Administration + Marketing Spend = 94657.16 + 145077.58 + 282574.31 = 471309.05\n",
      "However, this is not the total sales as the profit is not the sales. To calculate sales, we need to add the total spend and the profit. \n",
      "Sales = Total Spend + Profit (revenue generated) = Total Spend - Profit is the cost, so we add profit to get the sales.\n",
      " Sales = 471309.05 -  (125370.37 is profit and not cost, so we add it to get the sales) \n",
      " Sales = 471309.05 + 125370.37 = 596679.42\n",
      "\n",
      "Record 2: \n",
      "Total Spend = 1000.23 + 124153.04 + 1903.93 = 127057.2\n",
      "Sales = Total Spend + Profit = 127057.2 + 64926.08 = 191983.28\n",
      "\n",
      "Record 3: \n",
      "Total Spend = 65605.48 + 153032.06 + 107138.38 = 226775.92\n",
      "Sales = Total Spend + Profit = 226775.92 + 101004.64 = 327780.56\n",
      "\n",
      "Record 4: \n",
      "Total Spend = 77044.01 + 99281.34 + 140574.81 = 318900.16\n",
      "Sales = Total Spend + Profit = 318900.16 + 108552.04 = 427452.2\n",
      "\n",
      "The state with the highest sales is New York with the highest sales recorded being 596679.42.\n"
     ]
    }
   ],
   "source": [
    "print(custom_chain.invoke(\"which states has highest sales what is the sales recorded at that particular state, consider all the sales\").content)\n"
   ]
  },
  {
   "cell_type": "code",
   "execution_count": 212,
   "id": "2a1694d1-80a3-44c3-b17f-a7cdedb8383e",
   "metadata": {},
   "outputs": [
    {
     "name": "stdout",
     "output_type": "stream",
     "text": [
      "Summary of the Report:\n",
      "\n",
      "The report appears to be a financial summary of a company's expenses and profits, broken down by state and different expense categories. Here are the key findings:\n",
      "\n",
      "**State-wise Breakdown:**\n",
      "\n",
      "* Florida: 3 entries, with total expenses and profits as follows:\n",
      "\t+ Total R&D Spend: $162,903.97\n",
      "\t+ Total Administration: $349,656.45\n",
      "\t+ Total Marketing Spend: $894,368.53\n",
      "\t+ Total Profit: $264,621.92\n",
      "* New York: 1 entry, with total expenses and profits as follows:\n",
      "\t+ Total R&D Spend: $77,044.01\n",
      "\t+ Total Administration: $99,281.34\n",
      "\t+ Total Marketing Spend: $140,574.81\n",
      "\t+ Total Profit: $108,552.04\n",
      "\n",
      "**Category-wise Breakdown:**\n",
      "\n",
      "* R&D Spend: Total $239,948.98, with an average of $59,987.25 per entry\n",
      "* Administration: Total $449,937.79, with an average of $112,484.45 per entry\n",
      "* Marketing Spend: Total $1,034,943.34, with an average of $258,735.84 per entry\n",
      "* Profit: Total $373,174.96, with an average of $93,293.74 per entry\n"
     ]
    }
   ],
   "source": [
    "print(custom_chain.invoke(\"summeries the report\").content)\n"
   ]
  },
  {
   "cell_type": "code",
   "execution_count": 158,
   "id": "73b1623e-cec2-410a-af09-82f8f8ce26bb",
   "metadata": {},
   "outputs": [
    {
     "name": "stdout",
     "output_type": "stream",
     "text": [
      "New York: 205031.55 \n",
      " Florida: 288355.25\n"
     ]
    }
   ],
   "source": [
    "print(custom_chain.invoke(\"draw a single the bar graph between state and profit\").content)\n"
   ]
  },
  {
   "cell_type": "code",
   "execution_count": 70,
   "id": "c83e7bfb-1295-435f-a495-39fa00b857c7",
   "metadata": {},
   "outputs": [
    {
     "name": "stdout",
     "output_type": "stream",
     "text": [
      "Based on the given data, I'll first calculate the total sales for each state by adding R&D Spend, Administration, and Marketing Spend. Then, I'll find the state with the minimum sales.\n",
      "\n",
      "For New York:\n",
      "- R&D Spend: 94657.16 + 77044.01 = 171701.17\n",
      "- Administration: 145077.58 + 99281.34 = 244358.92\n",
      "- Marketing Spend: 282574.31 + 140574.81 = 423149.12\n",
      "- Total Sales for New York: 171701.17 + 244358.92 + 423149.12 = 839209.21\n",
      "- Average Sales for New York (2 records): 839209.21 / 2 = 419604.61\n",
      "\n",
      "For Florida:\n",
      "- R&D Spend: 119943.24 + 27892.92 = 147836.16\n",
      "- Administration: 156547.42 + 84710.77 = 241258.19\n",
      "- Marketing Spend: 256512.92 + 164470.71 = 420983.63\n",
      "- Total Sales for Florida: 147836.16 + 241258.19 + 420983.63 = 810077.98\n",
      "- Average Sales for Florida (2 records): 810077.98 / 2 = 405038.99\n",
      "\n",
      "Comparing the average sales for both states, Florida has the minimum sales, with the average sales recorded at approximately 405038.99.\n",
      "\n",
      "However, since you asked for the 'sales recorded at that particular state', I should mention that the given data does not directly provide sales information. Instead, it seems to provide expense information. Assuming the profits provided in the data are the result of these expenses, and considering the expenses mentioned (R&D Spend, Administration, and Marketing Spend), we can calculate the sales as follows:\n",
      "\n",
      "Sales = Profit + (R&D Spend + Administration + Marketing Spend)\n",
      "\n",
      "For Florida:\n",
      "- Sales Record 1: 132602.65 + (119943.24 + 156547.42 + 256512.92) = 665606.21\n",
      "- Sales Record 2: 77798.83 + (27892.92 + 84710.77 + 164470.71) = 278373.23\n",
      "\n",
      "Comparing the two sales records for Florida, the minimum sales recorded at that particular state is approximately 278373.23.\n"
     ]
    }
   ],
   "source": [
    "print(custom_chain.invoke(\"which states has minimum sales what is the sales recorded at that particular state\").content)"
   ]
  },
  {
   "cell_type": "code",
   "execution_count": null,
   "id": "af813c12-b5e3-45d5-bcdc-a1dd2edb52b4",
   "metadata": {},
   "outputs": [],
   "source": [
    "print(custom_chain.invoke(\"how many states and there names\").content)"
   ]
  },
  {
   "cell_type": "code",
   "execution_count": null,
   "id": "e6c759b3-7ac3-47ac-8c35-a8a62c746b15",
   "metadata": {},
   "outputs": [],
   "source": []
  },
  {
   "cell_type": "code",
   "execution_count": null,
   "id": "e18fcfdb-d5a0-42c1-a74c-2a838c435d1f",
   "metadata": {},
   "outputs": [],
   "source": []
  },
  {
   "cell_type": "code",
   "execution_count": 31,
   "id": "fed67d65-e8f9-412e-ab5b-1362ec76cd0d",
   "metadata": {},
   "outputs": [],
   "source": [
    "# ! pip install langchain_experimental"
   ]
  },
  {
   "cell_type": "code",
   "execution_count": 8,
   "id": "889ec151-3779-48fd-b2c0-e418103515cc",
   "metadata": {},
   "outputs": [
    {
     "name": "stdout",
     "output_type": "stream",
     "text": [
      "{'input': 'how many records', 'output': 'There are 50 records in the dataframe.'}\n"
     ]
    }
   ],
   "source": [
    "from langchain_experimental.agents import create_csv_agent\n",
    "\n",
    "chat =  create_csv_agent(\n",
    "    model,\n",
    "    \"50_Startups.csv\",\n",
    "    # agent_type = \"ZERO_SHOT_REACT_DESCRIPTION\",\n",
    "    allow_dangerous_code=True\n",
    ")\n",
    "\n",
    "\n",
    "response = chat.invoke(\"how many records\")\n",
    "print(response)\n"
   ]
  },
  {
   "cell_type": "code",
   "execution_count": 14,
   "id": "65d74629-a267-4a31-b6bf-cfd20da04bc3",
   "metadata": {},
   "outputs": [
    {
     "data": {
      "text/plain": [
       "'There are 50 records in the dataframe.'"
      ]
     },
     "execution_count": 14,
     "metadata": {},
     "output_type": "execute_result"
    }
   ],
   "source": [
    "response['output']"
   ]
  },
  {
   "cell_type": "code",
   "execution_count": 16,
   "id": "9b241355-848b-4dc6-b2bc-6b6755ff3a66",
   "metadata": {},
   "outputs": [
    {
     "data": {
      "text/plain": [
       "({'input': 'explain summary',\n",
       "  'output': \"The summary of the dataframe provides an overview of the financial performance of companies in three states. The mean and standard deviation of financial metrics such as 'R&D Spend', 'Administration', 'Marketing Spend', and 'Profit' give an idea of the average and variability of these metrics across all companies. The minimum and maximum values for these metrics suggest that there may be some companies that are not spending anything in certain areas, and some companies that are performing much better than others.\"},\n",
       " \"The summary of the dataframe provides an overview of the financial performance of companies in three states. The mean and standard deviation of financial metrics such as 'R&D Spend', 'Administration', 'Marketing Spend', and 'Profit' give an idea of the average and variability of these metrics across all companies. The minimum and maximum values for these metrics suggest that there may be some companies that are not spending anything in certain areas, and some companies that are performing much better than others.\")"
      ]
     },
     "execution_count": 16,
     "metadata": {},
     "output_type": "execute_result"
    }
   ],
   "source": [
    "\n",
    "response = chat.invoke(\"explain summary\")\n",
    "response , response['output']\n"
   ]
  },
  {
   "cell_type": "code",
   "execution_count": 18,
   "id": "87625431-2fbf-4a07-9775-edc5dab792ca",
   "metadata": {},
   "outputs": [
    {
     "data": {
      "text/plain": [
       "({'input': 'explain summary of the document',\n",
       "  'output': \"The dataframe contains 50 entries across 5 columns, including R&D Spend, Administration, Marketing Spend, State, and Profit. The columns are mostly numerical, with the exception of the 'State' column, which contains string values. The mean values for the numerical columns range from approximately 73,721 to 211,025. The standard deviation values indicate the spread of the data. The top three states by count are New York (17), California (17), and Florida (16).\"},\n",
       " \"The dataframe contains 50 entries across 5 columns, including R&D Spend, Administration, Marketing Spend, State, and Profit. The columns are mostly numerical, with the exception of the 'State' column, which contains string values. The mean values for the numerical columns range from approximately 73,721 to 211,025. The standard deviation values indicate the spread of the data. The top three states by count are New York (17), California (17), and Florida (16).\")"
      ]
     },
     "execution_count": 18,
     "metadata": {},
     "output_type": "execute_result"
    }
   ],
   "source": [
    "response = chat.invoke(\"explain summary of the document\")\n",
    "response , response['output']\n"
   ]
  },
  {
   "cell_type": "code",
   "execution_count": 28,
   "id": "0a41ab81-06eb-4613-baa5-26fad82c1e48",
   "metadata": {},
   "outputs": [
    {
     "data": {
      "text/plain": [
       "({'input': 'hi', 'output': 'hi'}, 'hi')"
      ]
     },
     "execution_count": 28,
     "metadata": {},
     "output_type": "execute_result"
    }
   ],
   "source": [
    "response = chat.invoke(\"hi\")\n",
    "response ,response['output']"
   ]
  },
  {
   "cell_type": "code",
   "execution_count": 34,
   "id": "16016fca-be6c-4ad5-9d54-28dca8a1801e",
   "metadata": {},
   "outputs": [
    {
     "data": {
      "image/png": "[encoded data removed]",
      "text/plain": [
       "<Figure size 640x480 with 1 Axes>"
      ]
     },
     "metadata": {},
     "output_type": "display_data"
    },
    {
     "data": {
      "image/png": "[encoded data removed]",
      "text/plain": [
       "<Figure size 1000x600 with 1 Axes>"
      ]
     },
     "metadata": {},
     "output_type": "display_data"
    },
    {
     "data": {
      "text/plain": [
       "({'input': 'generate a image using the data',\n",
       "  'output': \"A scatter plot has been generated using the data in the 'R&D Spend' and 'Profit' columns. The x-axis represents the 'R&D Spend' and the y-axis represents the 'Profit'. The plot can be used to visualize the relationship between the two columns and identify any correlations.\"},\n",
       " \"A scatter plot has been generated using the data in the 'R&D Spend' and 'Profit' columns. The x-axis represents the 'R&D Spend' and the y-axis represents the 'Profit'. The plot can be used to visualize the relationship between the two columns and identify any correlations.\")"
      ]
     },
     "execution_count": 34,
     "metadata": {},
     "output_type": "execute_result"
    }
   ],
   "source": [
    "response = chat.invoke(\"generate a image using the data\")\n",
    "response ,response['output']"
   ]
  },
  {
   "cell_type": "code",
   "execution_count": 32,
   "id": "f38e2975-3154-4110-af31-551f27641b0f",
   "metadata": {},
   "outputs": [
    {
     "data": {
      "text/plain": [
       "dict"
      ]
     },
     "execution_count": 32,
     "metadata": {},
     "output_type": "execute_result"
    }
   ],
   "source": [
    "type(response)"
   ]
  },
  {
   "cell_type": "code",
   "execution_count": null,
   "id": "d37a1156-ad3c-4958-9714-15838a026d38",
   "metadata": {},
   "outputs": [],
   "source": []
  },
  {
   "cell_type": "code",
   "execution_count": null,
   "id": "8247528f-8a92-4644-bd69-b3ac0b788f54",
   "metadata": {},
   "outputs": [],
   "source": []
  },
  {
   "cell_type": "code",
   "execution_count": null,
   "id": "6461ac6a-4ef0-40f2-8725-355e1f292d74",
   "metadata": {},
   "outputs": [],
   "source": []
  },
  {
   "cell_type": "code",
   "execution_count": null,
   "id": "eb74f1b8-4a41-4375-8a01-40d3b747ca9d",
   "metadata": {},
   "outputs": [],
   "source": []
  },
  {
   "cell_type": "code",
   "execution_count": null,
   "id": "2512c106-b4d6-41d6-a24e-3cf17c4b0278",
   "metadata": {},
   "outputs": [],
   "source": []
  },
  {
   "cell_type": "code",
   "execution_count": null,
   "id": "c94e281e-1e05-4847-a4f5-d43263b81566",
   "metadata": {},
   "outputs": [],
   "source": []
  },
  {
   "cell_type": "code",
   "execution_count": null,
   "id": "a01c313e-1415-4748-a342-ef7ba635dde3",
   "metadata": {},
   "outputs": [],
   "source": []
  },
  {
   "cell_type": "code",
   "execution_count": null,
   "id": "b7fa4d15-2806-4e3d-8fd3-a0acdd3304b8",
   "metadata": {},
   "outputs": [],
   "source": []
  },
  {
   "cell_type": "code",
   "execution_count": null,
   "id": "872ce8fe-8c9b-4d9f-bfba-19c28af09c09",
   "metadata": {},
   "outputs": [],
   "source": []
  },
  {
   "cell_type": "code",
   "execution_count": null,
   "id": "99da9b9f-3a5f-4aba-abdc-4a7a8020e348",
   "metadata": {},
   "outputs": [],
   "source": []
  },
  {
   "cell_type": "code",
   "execution_count": 73,
   "id": "a5665f20-0f42-420f-9e3b-4c4f8638b57d",
   "metadata": {},
   "outputs": [
    {
     "name": "stdout",
     "output_type": "stream",
     "text": [
      "There are 3 unique states in the dataframe.\n"
     ]
    }
   ],
   "source": [
    "response = chat.run(\"how many states\")\n",
    "print(response)"
   ]
  },
  {
   "cell_type": "code",
   "execution_count": 74,
   "id": "30df287a-b9c4-4bff-9234-0272e233f6ff",
   "metadata": {},
   "outputs": [
    {
     "name": "stdout",
     "output_type": "stream",
     "text": [
      "There are 3 states in the dataframe: 'New York', 'California', and 'Florida'.\n"
     ]
    }
   ],
   "source": [
    "response = chat.run(\"how many states and there names\")\n",
    "print(response)"
   ]
  },
  {
   "cell_type": "code",
   "execution_count": 86,
   "id": "0a397d06-2b22-40cd-821e-495b0d3da451",
   "metadata": {},
   "outputs": [
    {
     "name": "stdout",
     "output_type": "stream",
     "text": [
      "Agent stopped due to iteration limit or time limit.\n"
     ]
    }
   ],
   "source": [
    "response = chat.run(\"which states has highest sales\")\n",
    "print(response)"
   ]
  },
  {
   "cell_type": "code",
   "execution_count": 280,
   "id": "65df5fcd-b9aa-47e7-9e47-de90415ad442",
   "metadata": {},
   "outputs": [
    {
     "name": "stdout",
     "output_type": "stream",
     "text": [
      "The state with the highest sales is Florida with a total sales of 7197063.44, which is calculated by summing up 'R&D Spend', 'Administration', and 'Marketing Spend' for each state.\n"
     ]
    }
   ],
   "source": [
    "response = chat.run(\"which states has highest sales what is the sales recorded at that particular state, explain it how\")\n",
    "print(response)"
   ]
  },
  {
   "cell_type": "code",
   "execution_count": 80,
   "id": "e2ce44d6-f395-4fb1-b898-5fbafc630b6b",
   "metadata": {},
   "outputs": [
    {
     "name": "stdout",
     "output_type": "stream",
     "text": [
      "The report has 50 entries, with a mean R&D Spend of $73,722, a mean Administration cost of $121,345, and a mean Marketing Spend of $211,025. The mean Profit is $112,013. The 'State' column has three unique values: New York (17 entries), California (17 entries), and Florida (16 entries).\n"
     ]
    }
   ],
   "source": [
    "response = chat.run(\"summeries the report\")\n",
    "print(response)"
   ]
  },
  {
   "cell_type": "code",
   "execution_count": null,
   "id": "4f5d161e-089b-40c1-86ca-5a08a89ed78b",
   "metadata": {
    "scrolled": true
   },
   "outputs": [],
   "source": [
    "response = chat.run(\"draw a single the bar graph between state and profit\")\n",
    "print(response)"
   ]
  },
  {
   "cell_type": "code",
   "execution_count": 81,
   "id": "4c09ff9b-d8b2-47a6-8326-32850f0b968a",
   "metadata": {},
   "outputs": [
    {
     "name": "stdout",
     "output_type": "stream",
     "text": [
      "The state with the minimum sales is California, and the sales recorded at that particular state is 14681.4\n"
     ]
    }
   ],
   "source": [
    "response = chat.run(\"which states has minimum sales what is the sales recorded at that particular state\")\n",
    "print(response)"
   ]
  },
  {
   "cell_type": "code",
   "execution_count": null,
   "id": "08c9fd07-8f71-40df-9382-bb1e557d823e",
   "metadata": {},
   "outputs": [],
   "source": []
  }
 ],
 "metadata": {
  "kernelspec": {
   "display_name": "Python 3 (ipykernel)",
   "language": "python",
   "name": "python3"
  },
  "language_info": {
   "codemirror_mode": {
    "name": "ipython",
    "version": 3
   },
   "file_extension": ".py",
   "mimetype": "text/x-python",
   "name": "python",
   "nbconvert_exporter": "python",
   "pygments_lexer": "ipython3",
   "version": "3.12.4"
  }
 },
 "nbformat": 4,
 "nbformat_minor": 5
}
