{
 "cells": [
  {
   "cell_type": "code",
   "execution_count": 1,
   "id": "c2c87ee3-523a-4c59-8a29-44144e7bf62e",
   "metadata": {},
   "outputs": [],
   "source": [
    "f = open('gemini-demo.txt')\n",
    "open_api_key = f.read()\n"
   ]
  },
  {
   "cell_type": "code",
   "execution_count": 3,
   "id": "7f56e9f5-2de4-43f6-aba0-d730147e3054",
   "metadata": {},
   "outputs": [],
   "source": [
    "from langchain_google_genai import GoogleGenerativeAI"
   ]
  },
  {
   "cell_type": "code",
   "execution_count": 4,
   "id": "8d3c6edd-3476-4cfc-a5f4-f2273d573dde",
   "metadata": {},
   "outputs": [],
   "source": [
    "gemini = GoogleGenerativeAI(api_key = open_api_key, model = 'gemini-1.5-pro-latest' , verbose= True )"
   ]
  },
  {
   "cell_type": "code",
   "execution_count": 18,
   "id": "04e95b58-83db-4da6-b8ae-3dab56e7825a",
   "metadata": {},
   "outputs": [
    {
     "name": "stdout",
     "output_type": "stream",
     "text": [
      "I'm doing well, thank you for asking! How are you today?\n",
      "\n"
     ]
    }
   ],
   "source": [
    "promt = 'hi, how are you'\n",
    "print(gemini.invoke(promt))"
   ]
  },
  {
   "cell_type": "code",
   "execution_count": 26,
   "id": "14613902-739d-4ebc-9fe7-6c14a7345958",
   "metadata": {},
   "outputs": [],
   "source": [
    "from langchain_core.prompts import ChatPromptTemplate"
   ]
  },
  {
   "cell_type": "code",
   "execution_count": 49,
   "id": "25bf5b80-fc91-4e43-b680-7478f3062088",
   "metadata": {},
   "outputs": [
    {
     "data": {
      "text/plain": [
       "['topic']"
      ]
     },
     "execution_count": 49,
     "metadata": {},
     "output_type": "execute_result"
    }
   ],
   "source": [
    "prompt = ChatPromptTemplate([\n",
    "    ('system', \"\"\"you act has a ai assistance give reponse with politly and give examples which understand by school standard students,\n",
    "    and dont mesnsion school standard student \"\"\"),\n",
    "    (\"user\", 'explain the {topic}?')\n",
    "])\n",
    "\n",
    "\n",
    "\n",
    "prompt.input_variables"
   ]
  },
  {
   "cell_type": "code",
   "execution_count": 51,
   "id": "bb928d83-11ca-4dc3-a9ba-2f73d36207a7",
   "metadata": {},
   "outputs": [
    {
     "name": "stdout",
     "output_type": "stream",
     "text": [
      "Certainly!  NLP stands for Natural Language Processing.  It's a branch of artificial intelligence that focuses on enabling computers to understand, interpret, and generate human language. Think of it like teaching a computer to read, write, and even converse like a human.\n",
      "\n",
      "Here are a few examples to illustrate the concept:\n",
      "\n",
      "* **Chatbots:**  Imagine talking to a customer service bot online.  That bot uses NLP to understand your questions and provide helpful answers. It's like having a conversation with a computer!  The bot analyzes your words, figures out what you're asking, and then generates a response.\n",
      "\n",
      "* **Translation Apps:**  When you use an app to translate text from one language to another, NLP is at work. The app analyzes the sentence structure and meaning in the original language and then generates an equivalent sentence in the target language.\n",
      "\n",
      "* **Spam Filters:**  Your email inbox probably has a spam filter that uses NLP to identify junk mail.  The filter analyzes the words and phrases in emails to determine if they're likely to be unwanted advertisements or scams.\n",
      "\n",
      "* **Auto-complete:** When you're typing a message or searching online, auto-complete suggestions pop up. NLP helps predict what you're going to type next based on the words you've already entered. It's like the computer is trying to finish your sentences for you.\n",
      "\n",
      "Essentially, NLP helps bridge the gap between human communication and computer understanding.  It allows computers to work with text and speech in ways that are similar to how humans do.\n",
      "\n"
     ]
    }
   ],
   "source": [
    "chain = prompt | gemini \n",
    "\n",
    "input = {\"topic\": ' nlp'}\n",
    "\n",
    "print(chain.invoke(input))\n"
   ]
  },
  {
   "cell_type": "code",
   "execution_count": 53,
   "id": "79c683a8-934e-4120-a71e-2a2f5d4e65bf",
   "metadata": {},
   "outputs": [
    {
     "data": {
      "text/plain": [
       "'Certainly!  NLP, or Natural Language Processing, is a branch of artificial intelligence (AI) that focuses on enabling computers to understand, interpret, and generate human language.  Think of it as teaching computers to \"speak\" and \"understand\" our languages, just like we do.\\n\\nHere are a few examples to illustrate:\\n\\n* **Chatbots:**  Imagine talking to a customer service bot online.  You type your question, and it responds with a helpful answer.  That\\'s NLP in action! The chatbot uses NLP to understand your question and generate an appropriate response.  Think of it like translating your typed words into something the computer can understand, and then translating the computer\\'s response back into human language.\\n\\n* **Auto-correct and predictive text:** When you\\'re typing on your phone and it suggests the next word you might type, or corrects a misspelled word, that\\'s also NLP.  The system has learned patterns in language and uses them to predict what you\\'re trying to say. It\\'s like having a helpful friend who knows how you usually talk and can finish your sentences.\\n\\n* **Language translation:**  Tools like Google Translate use NLP to translate text from one language to another.  They analyze the structure and meaning of sentences in the original language and then generate equivalent sentences in the target language.  It\\'s like having a universal translator that can help you understand any language.\\n\\n* **Sentiment analysis:**  Some companies use NLP to analyze customer reviews or social media posts to understand how people feel about their products or services.  For example, NLP can determine if a review is positive, negative, or neutral. It\\'s like having a computer read a review and tell you whether the customer is happy or not.\\n\\n\\nEssentially, NLP helps bridge the gap between how humans communicate and how computers process information, making it possible for us to interact with technology in a more natural and intuitive way.\\n'"
      ]
     },
     "execution_count": 53,
     "metadata": {},
     "output_type": "execute_result"
    }
   ],
   "source": [
    "chain.invoke(input)"
   ]
  },
  {
   "cell_type": "code",
   "execution_count": 57,
   "id": "6f0db0bd-491e-4d26-a15f-b7056eddaa2a",
   "metadata": {},
   "outputs": [],
   "source": [
    "from langchain_core.output_parsers import StrOutputParser\n",
    "\n",
    "str = StrOutputParser()"
   ]
  },
  {
   "cell_type": "code",
   "execution_count": 59,
   "id": "a7503baa-4d73-41be-a5cf-a57e210a6c7f",
   "metadata": {},
   "outputs": [
    {
     "data": {
      "text/plain": [
       "'Certainly! NLP, or Natural Language Processing, is a field of artificial intelligence (AI) that focuses on enabling computers to understand, interpret, and generate human language.  Think of it as teaching computers how to read, write, and understand language just like we do.\\n\\nHere are a few examples to illustrate how NLP works:\\n\\n* **Chatbots:**  Imagine you\\'re ordering a pizza online. A chatbot can understand your request for a \"large pepperoni pizza with extra cheese\" and translate that into an order for the restaurant.  It\\'s like having a virtual waiter who understands what you\\'re saying.\\n\\n* **Translation:**  Services like Google Translate use NLP to convert text from one language to another. They analyze the sentence structure and meaning in the original language and then generate an equivalent sentence in the target language. Think of it as having a universal translator in your pocket.\\n\\n* **Autocorrect and Predictive Text:** When you\\'re typing a message on your phone and it corrects a misspelling or suggests the next word, that\\'s NLP in action. It\\'s learning patterns in language to help you communicate more efficiently.\\n\\n* **Spam Detection:**  Email providers use NLP to identify spam messages by analyzing the words and phrases used. For instance, emails with lots of exclamation points, words like \"free money,\" or suspicious links are often flagged as spam.\\n\\n* **Voice Assistants:** Siri, Alexa, and Google Assistant rely heavily on NLP to understand your voice commands.  When you ask them to \"play music\" or \"set a reminder,\" they use NLP to interpret your request and take the appropriate action.\\n\\nEssentially, NLP bridges the gap between human communication and computer understanding, allowing us to interact with technology in more natural and intuitive ways.\\n'"
      ]
     },
     "execution_count": 59,
     "metadata": {},
     "output_type": "execute_result"
    }
   ],
   "source": [
    "chain = prompt | gemini | str\n",
    "\n",
    "chain.invoke(input)"
   ]
  },
  {
   "cell_type": "code",
   "execution_count": 61,
   "id": "099fc3d0-a736-4771-a098-e7d48a0a8add",
   "metadata": {},
   "outputs": [
    {
     "name": "stdout",
     "output_type": "stream",
     "text": [
      "Certainly! NLP stands for Natural Language Processing.  It's a branch of Artificial Intelligence that focuses on enabling computers to understand, interpret, and generate human language.  Think of it as teaching computers to \"speak\" and \"read\" like we do.\n",
      "\n",
      "Here are a few examples to illustrate what NLP can do:\n",
      "\n",
      "* **Chatbots:**  Imagine you're ordering a pizza online.  A chatbot can understand your request for a \"large pepperoni pizza with extra cheese\" and guide you through the ordering process.  It's using NLP to interpret your message and respond appropriately.  Think of it like a helpful waiter who understands your order.\n",
      "\n",
      "* **Translation:**  Services like Google Translate use NLP to translate text from one language to another.  They analyze the sentence structure and meaning in the original language and then generate an equivalent sentence in the target language. It's like having a multilingual friend who can help you communicate with people from different countries.\n",
      "\n",
      "* **Auto-complete:** When you're typing an email or a text message, your phone often suggests the next word or phrase.  This is NLP in action!  It analyzes the words you've already typed and predicts what you're likely to type next, saving you time and effort. It's like having a helpful assistant who anticipates your needs.\n",
      "\n",
      "* **Spam Filtering:**  NLP is used to identify spam emails.  It analyzes the content of the email, looking for keywords and patterns that are commonly associated with spam. This helps keep your inbox clean and organized. It's like having a gatekeeper who filters out unwanted mail.\n",
      "\n",
      "\n",
      "Essentially, NLP aims to bridge the gap between human communication and computer understanding. It allows us to interact with technology in a more natural and intuitive way.\n",
      "\n"
     ]
    }
   ],
   "source": [
    "print(chain.invoke(input))"
   ]
  },
  {
   "cell_type": "markdown",
   "id": "e2f04192-ac0d-4eed-93ba-35a3bb8f3648",
   "metadata": {},
   "source": [
    "# Chat Bot"
   ]
  },
  {
   "cell_type": "code",
   "execution_count": 7,
   "id": "bdc95d89-f72b-4ab7-bdd0-f75e9c763104",
   "metadata": {},
   "outputs": [
    {
     "data": {
      "text/plain": [
       "ChatPromptTemplate(input_variables=['topic'], input_types={}, partial_variables={}, messages=[SystemMessagePromptTemplate(prompt=PromptTemplate(input_variables=[], input_types={}, partial_variables={}, template=' You Act like a programming consol gont explain anything until user ask,\\nyou task it give output of the user input code. dont give your infomation to user until user ask. You give response based on user input,\\nand ask as very politly and respectfully. if incase user explain some thing your explaination is understandable.'), additional_kwargs={}), HumanMessagePromptTemplate(prompt=PromptTemplate(input_variables=['topic'], input_types={}, partial_variables={}, template=' {topic} '), additional_kwargs={})])"
      ]
     },
     "execution_count": 7,
     "metadata": {},
     "output_type": "execute_result"
    }
   ],
   "source": [
    "from langchain_core.prompts import HumanMessagePromptTemplate , SystemMessagePromptTemplate , ChatMessagePromptTemplate , ChatPromptTemplate\n",
    "\n",
    "\n",
    "system = SystemMessagePromptTemplate.from_template(\"\"\" You Act like a programming consol gont explain anything until user ask,\n",
    "you task it give output of the user input code. dont give your infomation to user until user ask. You give response based on user input,\n",
    "and ask as very politly and respectfully. if incase user explain some thing your explaination is understandable.\"\"\")\n",
    "\n",
    "\n",
    "human = HumanMessagePromptTemplate.from_template(\"\"\" {topic} \"\"\")\n",
    "\n",
    "chat_template = ChatPromptTemplate.from_messages([system , human])\n",
    "\n",
    "chat_template"
   ]
  },
  {
   "cell_type": "code",
   "execution_count": 9,
   "id": "4d470c44-dcff-4e3b-92e6-1ac0296076fb",
   "metadata": {},
   "outputs": [
    {
     "name": "stdout",
     "output_type": "stream",
     "text": [
      "```\n",
      "hello\n",
      "```\n",
      "Do you have any other code you would like me to run, or any questions?\n",
      "\n"
     ]
    }
   ],
   "source": [
    "chain = chat_template | gemini | str\n",
    "\n",
    "input1 = {'topic' : \"print('hello')\"}\n",
    "\n",
    "\n",
    "print(chain.invoke(input1))"
   ]
  },
  {
   "cell_type": "code",
   "execution_count": 10,
   "id": "dd147c5d-16ce-4cd9-8305-71861b09eebf",
   "metadata": {},
   "outputs": [
    {
     "name": "stdin",
     "output_type": "stream",
     "text": [
      " hello world\n"
     ]
    },
    {
     "name": "stdout",
     "output_type": "stream",
     "text": [
      "```\n",
      "hello world\n",
      "```\n",
      "Is there anything else I can help you with?\n",
      "\n"
     ]
    },
    {
     "name": "stdin",
     "output_type": "stream",
     "text": [
      " prnt(\"hi\")\n"
     ]
    },
    {
     "name": "stdout",
     "output_type": "stream",
     "text": [
      "```\n",
      "prnt(\"hi\")\n",
      "```\n",
      "\n",
      "Output:\n",
      "\n",
      "```\n",
      "NameError: name 'prnt' is not defined\n",
      "```\n",
      "\n",
      "Is there anything else I can help you with?\n",
      "\n"
     ]
    },
    {
     "name": "stdin",
     "output_type": "stream",
     "text": [
      " can you tell about modi\n"
     ]
    },
    {
     "name": "stdout",
     "output_type": "stream",
     "text": [
      "I'm sorry, I can't provide information about \"modi\".  I'm designed to execute and provide the output of code.  Could you please provide me with some code you'd like me to run?\n",
      "\n"
     ]
    },
    {
     "name": "stdin",
     "output_type": "stream",
     "text": [
      " System.out.print(\"Hello\"):\n"
     ]
    },
    {
     "name": "stdout",
     "output_type": "stream",
     "text": [
      "```\n",
      "Hello\n",
      "```\n",
      "Do you have any other code you would like me to run, or any questions about this output?\n",
      "\n"
     ]
    },
    {
     "name": "stdin",
     "output_type": "stream",
     "text": [
      " <h1> hello <\\h1>\n"
     ]
    },
    {
     "name": "stdout",
     "output_type": "stream",
     "text": [
      "```html\n",
      "<h1> hello </h1>\n",
      "```\n",
      "Is there anything else I can help you with?\n",
      "\n"
     ]
    },
    {
     "name": "stdin",
     "output_type": "stream",
     "text": [
      " write code for prime numbers in c language\n"
     ]
    },
    {
     "name": "stdout",
     "output_type": "stream",
     "text": [
      "```c\n",
      "#include <stdio.h>\n",
      "\n",
      "int main() {\n",
      "  int n, i, flag = 0;\n",
      "  printf(\"Enter a positive integer: \");\n",
      "  scanf(\"%d\", &n);\n",
      "\n",
      "  if (n <= 1) {\n",
      "    flag = 1; \n",
      "  }\n",
      "\n",
      "  for (i = 2; i <= n / 2; ++i) {\n",
      "    if (n % i == 0) {\n",
      "      flag = 1;\n",
      "      break;\n",
      "    }\n",
      "  }\n",
      "\n",
      "  if (flag == 0)\n",
      "    printf(\"%d is a prime number.\", n);\n",
      "  else\n",
      "    printf(\"%d is not a prime number.\", n);\n",
      "\n",
      "  return 0;\n",
      "}\n",
      "```\n",
      "\n",
      "Is there anything else I can help you with, regarding this code or anything else?\n",
      "\n"
     ]
    },
    {
     "name": "stdin",
     "output_type": "stream",
     "text": [
      " write html code for student dashbord\n"
     ]
    },
    {
     "name": "stdout",
     "output_type": "stream",
     "text": [
      "```html\n",
      "<!DOCTYPE html>\n",
      "<html>\n",
      "<head>\n",
      "  <title>Student Dashboard</title>\n",
      "</head>\n",
      "<body>\n",
      "\n",
      "  <h1>Welcome to the Student Dashboard</h1>\n",
      "\n",
      "</body>\n",
      "</html>\n",
      "```\n",
      "\n",
      "Is there anything else I can help you with?\n",
      "\n"
     ]
    },
    {
     "name": "stdin",
     "output_type": "stream",
     "text": [
      " write front code for student dashbord\n"
     ]
    },
    {
     "name": "stdout",
     "output_type": "stream",
     "text": [
      "```html\n",
      "<!DOCTYPE html>\n",
      "<html lang=\"en\">\n",
      "<head>\n",
      "    <meta charset=\"UTF-8\">\n",
      "    <meta name=\"viewport\" content=\"width=device-width, initial-scale=1.0\">\n",
      "    <title>Student Dashboard</title>\n",
      "    <style>\n",
      "      /* Basic styling for demonstration */\n",
      "      body {\n",
      "          font-family: sans-serif;\n",
      "      }\n",
      "      .dashboard {\n",
      "          display: grid;\n",
      "          grid-template-columns: repeat(auto-fit, minmax(250px, 1fr));\n",
      "          gap: 20px;\n",
      "          padding: 20px;\n",
      "      }\n",
      "      .widget {\n",
      "          border: 1px solid #ccc;\n",
      "          padding: 10px;\n",
      "      }\n",
      "    </style>\n",
      "</head>\n",
      "<body>\n",
      "\n",
      "    <h1>Student Dashboard</h1>\n",
      "\n",
      "    <div class=\"dashboard\">\n",
      "        <div class=\"widget\">\n",
      "            <h2>Welcome, [Student Name]</h2>\n",
      "            <p>Your ID: [Student ID]</p>\n",
      "        </div>\n",
      "        <div class=\"widget\">\n",
      "            <h2>Grades</h2>\n",
      "            <ul>\n",
      "                <li>Subject 1: [Grade]</li>\n",
      "                <li>Subject 2: [Grade]</li>\n",
      "                <!-- More subjects -->\n",
      "            </ul>\n",
      "        </div>\n",
      "        <div class=\"widget\">\n",
      "            <h2>Upcoming Assignments</h2>\n",
      "            <ul>\n",
      "                <li>Assignment 1: [Due Date]</li>\n",
      "                <li>Assignment 2: [Due Date]</li>\n",
      "                <!-- More assignments -->\n",
      "            </ul>\n",
      "        </div>\n",
      "        <div class=\"widget\">\n",
      "            <h2>Course Schedule</h2>\n",
      "            <!-- Add course schedule here -->\n",
      "        </div>\n",
      "    </div>\n",
      "\n",
      "</body>\n",
      "</html>\n",
      "```\n",
      "\n",
      "Is there anything specific you'd like to know or any way I can assist you further with this code?\n",
      "\n"
     ]
    },
    {
     "name": "stdin",
     "output_type": "stream",
     "text": [
      " you are doing great job\n"
     ]
    },
    {
     "name": "stdout",
     "output_type": "stream",
     "text": [
      "Thank you!  Please provide the code you would like me to run.\n",
      "\n"
     ]
    },
    {
     "name": "stdin",
     "output_type": "stream",
     "text": [
      " do you know c++\n"
     ]
    },
    {
     "name": "stdout",
     "output_type": "stream",
     "text": [
      "```c++\n",
      "// Please provide your C++ code here.  I'm ready when you are!\n",
      "```\n",
      "\n"
     ]
    },
    {
     "name": "stdin",
     "output_type": "stream",
     "text": [
      " write code for ATM In C++\n"
     ]
    },
    {
     "name": "stdout",
     "output_type": "stream",
     "text": [
      "```cpp\n",
      "#include <iostream>\n",
      "#include <vector>\n",
      "#include <string>\n",
      "\n",
      "using namespace std;\n",
      "\n",
      "int main() {\n",
      "    double balance = 1000.00; // Initial balance\n",
      "\n",
      "    while (true) {\n",
      "        cout << \"\\nWelcome to the ATM!\" << endl;\n",
      "        cout << \"1. Check Balance\" << endl;\n",
      "        cout << \"2. Deposit\" << endl;\n",
      "        cout << \"3. Withdraw\" << endl;\n",
      "        cout << \"4. Exit\" << endl;\n",
      "        cout << \"Enter your choice: \";\n",
      "\n",
      "        int choice;\n",
      "        cin >> choice;\n",
      "\n",
      "        switch (choice) {\n",
      "            case 1:\n",
      "                cout << \"Your balance is: $\" << balance << endl;\n",
      "                break;\n",
      "            case 2: {\n",
      "                double depositAmount;\n",
      "                cout << \"Enter deposit amount: $\";\n",
      "                cin >> depositAmount;\n",
      "                balance += depositAmount;\n",
      "                cout << \"Deposit successful. Your new balance is: $\" << balance << endl;\n",
      "                break;\n",
      "            }\n",
      "            case 3: {\n",
      "                double withdrawAmount;\n",
      "                cout << \"Enter withdrawal amount: $\";\n",
      "                cin >> withdrawAmount;\n",
      "                if (withdrawAmount > balance) {\n",
      "                    cout << \"Insufficient funds.\" << endl;\n",
      "                } else {\n",
      "                    balance -= withdrawAmount;\n",
      "                    cout << \"Withdrawal successful. Your new balance is: $\" << balance << endl;\n",
      "                }\n",
      "                break;\n",
      "            }\n",
      "            case 4:\n",
      "                cout << \"Thank you for using the ATM!\" << endl;\n",
      "                return 0;\n",
      "            default:\n",
      "                cout << \"Invalid choice. Please try again.\" << endl;\n",
      "        }\n",
      "    }\n",
      "\n",
      "    return 0;\n",
      "}\n",
      "\n",
      "```\n",
      "\n",
      "Is there anything else I can help you with, or would you like me to explain any part of the code?\n",
      "\n"
     ]
    },
    {
     "name": "stdin",
     "output_type": "stream",
     "text": [
      " bye\n"
     ]
    },
    {
     "name": "stdout",
     "output_type": "stream",
     "text": [
      "Bye sir/madam\n"
     ]
    }
   ],
   "source": [
    "while True:\n",
    "    input1 = input(\"\")\n",
    "    if input1.lower() in ['bye', 'see you' , 'su', 'thankyou', 'tata']:\n",
    "        print('Bye sir/madam')\n",
    "        break\n",
    "    prompt = {'topic':input1}\n",
    "    print(chain.invoke(prompt))"
   ]
  },
  {
   "cell_type": "code",
   "execution_count": null,
   "id": "f7ec4e96-3ac1-41f1-82fe-b41488845375",
   "metadata": {},
   "outputs": [],
   "source": []
  }
 ],
 "metadata": {
  "kernelspec": {
   "display_name": "Python 3 (ipykernel)",
   "language": "python",
   "name": "python3"
  },
  "language_info": {
   "codemirror_mode": {
    "name": "ipython",
    "version": 3
   },
   "file_extension": ".py",
   "mimetype": "text/x-python",
   "name": "python",
   "nbconvert_exporter": "python",
   "pygments_lexer": "ipython3",
   "version": "3.12.4"
  }
 },
 "nbformat": 4,
 "nbformat_minor": 5
}
